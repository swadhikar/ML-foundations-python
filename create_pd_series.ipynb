{
 "cells": [
  {
   "cell_type": "markdown",
   "metadata": {
    "id": "SkiQVmbZWM1w"
   },
   "source": [
    "## Pandas practise"
   ]
  },
  {
   "cell_type": "code",
   "execution_count": 2,
   "metadata": {
    "id": "jCowxKhGVhjB"
   },
   "outputs": [],
   "source": [
    "import pandas as pd\n",
    "import numpy as np"
   ]
  },
  {
   "cell_type": "markdown",
   "metadata": {
    "id": "IHBD35BiWdPG"
   },
   "source": [
    "##### Create a Pandas series\n"
   ]
  },
  {
   "cell_type": "code",
   "execution_count": 4,
   "metadata": {
    "id": "fGCgx9cdWq3w"
   },
   "outputs": [],
   "source": [
    "data = [10, 20, 30, 40]\n",
    "series = pd.Series(data)"
   ]
  },
  {
   "cell_type": "code",
   "execution_count": 28,
   "metadata": {
    "colab": {
     "base_uri": "https://localhost:8080/"
    },
    "id": "r-5BNIxZX3Eb",
    "outputId": "37d8c08f-79f0-4a0e-c373-8e60c6311398"
   },
   "outputs": [
    {
     "data": {
      "text/plain": [
       "first     1\n",
       "second    2\n",
       "third     3\n",
       "forth     4\n",
       "fifth     5\n",
       "dtype: int32"
      ]
     },
     "execution_count": 28,
     "metadata": {},
     "output_type": "execute_result"
    }
   ],
   "source": [
    "series"
   ]
  },
  {
   "cell_type": "markdown",
   "metadata": {
    "id": "3tSKjAKvYN72"
   },
   "source": [
    "###### Create a Series datatype with custom index"
   ]
  },
  {
   "cell_type": "code",
   "execution_count": 7,
   "metadata": {
    "id": "ijAcV4RzX5BI"
   },
   "outputs": [],
   "source": [
    "data = [10, 20, 30, 40]\n",
    "label = ['apple', 'banana', 'orange', 'fig']\n",
    "series = pd.Series(data, index=label)"
   ]
  },
  {
   "cell_type": "code",
   "execution_count": 8,
   "metadata": {
    "colab": {
     "base_uri": "https://localhost:8080/",
     "height": 210
    },
    "id": "NuzlWR9xYWIN",
    "outputId": "65003d4c-be85-492e-e378-8246f85e60aa"
   },
   "outputs": [
    {
     "data": {
      "text/plain": [
       "apple     10\n",
       "banana    20\n",
       "orange    30\n",
       "fig       40\n",
       "dtype: int64"
      ]
     },
     "execution_count": 8,
     "metadata": {},
     "output_type": "execute_result"
    }
   ],
   "source": [
    "series"
   ]
  },
  {
   "cell_type": "markdown",
   "metadata": {
    "id": "KvHfXb0MYjLi"
   },
   "source": [
    "##### Creating a Series from a Dictionary"
   ]
  },
  {
   "cell_type": "code",
   "execution_count": 10,
   "metadata": {
    "id": "2saar_OQYcw9"
   },
   "outputs": [],
   "source": [
    "data = {\n",
    "    'apple': 3,\n",
    "    'banana': 2,\n",
    "    'cherry': 5\n",
    "}\n",
    "\n",
    "series = pd.Series(data)"
   ]
  },
  {
   "cell_type": "code",
   "execution_count": 11,
   "metadata": {
    "colab": {
     "base_uri": "https://localhost:8080/",
     "height": 178
    },
    "id": "ky3LtoCNYhfJ",
    "outputId": "5fdf5965-60bb-4229-b1a8-aa1dcfbdb0e3"
   },
   "outputs": [
    {
     "data": {
      "text/plain": [
       "apple     3\n",
       "banana    2\n",
       "cherry    5\n",
       "dtype: int64"
      ]
     },
     "execution_count": 11,
     "metadata": {},
     "output_type": "execute_result"
    }
   ],
   "source": [
    "series"
   ]
  },
  {
   "cell_type": "markdown",
   "metadata": {
    "id": "7G_KrUyOY1h_"
   },
   "source": [
    "###### Creating a Series with Scalar Value"
   ]
  },
  {
   "cell_type": "code",
   "execution_count": 13,
   "metadata": {
    "id": "PwcYVvmUZLMC"
   },
   "outputs": [],
   "source": [
    "label = ['apple', 'banana', 'orange', 'fig']\n",
    "series = pd.Series(5, index=label)"
   ]
  },
  {
   "cell_type": "code",
   "execution_count": 14,
   "metadata": {
    "colab": {
     "base_uri": "https://localhost:8080/"
    },
    "id": "ADIGQolfZMnD",
    "outputId": "2ca58c68-7071-4d39-d503-ded71954b485"
   },
   "outputs": [
    {
     "name": "stdout",
     "output_type": "stream",
     "text": [
      "apple     5\n",
      "banana    5\n",
      "orange    5\n",
      "fig       5\n",
      "dtype: int64\n"
     ]
    }
   ],
   "source": [
    "print(series)"
   ]
  },
  {
   "cell_type": "code",
   "execution_count": 15,
   "metadata": {
    "colab": {
     "base_uri": "https://localhost:8080/"
    },
    "id": "3hJDWQI3ZRk-",
    "outputId": "5be928c9-c61f-4569-d5ad-14505b846e51"
   },
   "outputs": [
    {
     "name": "stdout",
     "output_type": "stream",
     "text": [
      "Series([], dtype: object)\n"
     ]
    }
   ],
   "source": [
    "# Empty series\n",
    "series = pd.Series()\n",
    "print(series)"
   ]
  },
  {
   "cell_type": "code",
   "execution_count": 16,
   "metadata": {
    "colab": {
     "base_uri": "https://localhost:8080/"
    },
    "id": "M8DOUbXbZztm",
    "outputId": "eb02614f-4e86-45a4-c441-3abc7ecd43f0"
   },
   "outputs": [
    {
     "name": "stdout",
     "output_type": "stream",
     "text": [
      "first     1\n",
      "second    2\n",
      "third     3\n",
      "forth     4\n",
      "fifth     5\n",
      "dtype: int32\n"
     ]
    }
   ],
   "source": [
    "# Creating series from numpy array\n",
    "np_array = np.array([1,2,3,4,5])\n",
    "series = pd.Series(np_array, index=['first', 'second', 'third', 'forth', 'fifth'])\n",
    "print(series)"
   ]
  }
 ],
 "metadata": {
  "colab": {
   "provenance": []
  },
  "kernelspec": {
   "display_name": "Python 3 (ipykernel)",
   "language": "python",
   "name": "python3"
  },
  "language_info": {
   "codemirror_mode": {
    "name": "ipython",
    "version": 3
   },
   "file_extension": ".py",
   "mimetype": "text/x-python",
   "name": "python",
   "nbconvert_exporter": "python",
   "pygments_lexer": "ipython3",
   "version": "3.12.4"
  }
 },
 "nbformat": 4,
 "nbformat_minor": 4
}

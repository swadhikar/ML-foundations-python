{
  "nbformat": 4,
  "nbformat_minor": 0,
  "metadata": {
    "colab": {
      "provenance": []
    },
    "kernelspec": {
      "name": "python3",
      "display_name": "Python 3"
    },
    "language_info": {
      "name": "python"
    }
  },
  "cells": [
    {
      "cell_type": "markdown",
      "source": [
        "## Pandas practise"
      ],
      "metadata": {
        "id": "SkiQVmbZWM1w"
      }
    },
    {
      "cell_type": "code",
      "execution_count": null,
      "metadata": {
        "id": "jCowxKhGVhjB"
      },
      "outputs": [],
      "source": [
        "import pandas as pd\n",
        "import numpy as np"
      ]
    },
    {
      "cell_type": "markdown",
      "source": [
        "##### Create a Pandas series\n"
      ],
      "metadata": {
        "id": "IHBD35BiWdPG"
      }
    },
    {
      "cell_type": "code",
      "source": [
        "data = [10, 20, 30, 40]\n",
        "series = pd.Series(data)"
      ],
      "metadata": {
        "id": "fGCgx9cdWq3w"
      },
      "execution_count": null,
      "outputs": []
    },
    {
      "cell_type": "code",
      "source": [
        "print(series)"
      ],
      "metadata": {
        "colab": {
          "base_uri": "https://localhost:8080/"
        },
        "id": "r-5BNIxZX3Eb",
        "outputId": "37d8c08f-79f0-4a0e-c373-8e60c6311398"
      },
      "execution_count": null,
      "outputs": [
        {
          "output_type": "stream",
          "name": "stdout",
          "text": [
            "0    10\n",
            "1    20\n",
            "2    30\n",
            "3    40\n",
            "dtype: int64\n"
          ]
        }
      ]
    },
    {
      "cell_type": "markdown",
      "source": [
        "###### Create a Series datatype with custom index"
      ],
      "metadata": {
        "id": "3tSKjAKvYN72"
      }
    },
    {
      "cell_type": "code",
      "source": [
        "data = [10, 20, 30, 40]\n",
        "label = ['apple', 'banana', 'orange', 'fig']\n",
        "series = pd.Series(data, index=label)"
      ],
      "metadata": {
        "id": "ijAcV4RzX5BI"
      },
      "execution_count": null,
      "outputs": []
    },
    {
      "cell_type": "code",
      "source": [
        "series"
      ],
      "metadata": {
        "colab": {
          "base_uri": "https://localhost:8080/",
          "height": 210
        },
        "id": "NuzlWR9xYWIN",
        "outputId": "65003d4c-be85-492e-e378-8246f85e60aa"
      },
      "execution_count": null,
      "outputs": [
        {
          "output_type": "execute_result",
          "data": {
            "text/plain": [
              "apple     10\n",
              "banana    20\n",
              "orange    30\n",
              "fig       40\n",
              "dtype: int64"
            ],
            "text/html": [
              "<div>\n",
              "<style scoped>\n",
              "    .dataframe tbody tr th:only-of-type {\n",
              "        vertical-align: middle;\n",
              "    }\n",
              "\n",
              "    .dataframe tbody tr th {\n",
              "        vertical-align: top;\n",
              "    }\n",
              "\n",
              "    .dataframe thead th {\n",
              "        text-align: right;\n",
              "    }\n",
              "</style>\n",
              "<table border=\"1\" class=\"dataframe\">\n",
              "  <thead>\n",
              "    <tr style=\"text-align: right;\">\n",
              "      <th></th>\n",
              "      <th>0</th>\n",
              "    </tr>\n",
              "  </thead>\n",
              "  <tbody>\n",
              "    <tr>\n",
              "      <th>apple</th>\n",
              "      <td>10</td>\n",
              "    </tr>\n",
              "    <tr>\n",
              "      <th>banana</th>\n",
              "      <td>20</td>\n",
              "    </tr>\n",
              "    <tr>\n",
              "      <th>orange</th>\n",
              "      <td>30</td>\n",
              "    </tr>\n",
              "    <tr>\n",
              "      <th>fig</th>\n",
              "      <td>40</td>\n",
              "    </tr>\n",
              "  </tbody>\n",
              "</table>\n",
              "</div><br><label><b>dtype:</b> int64</label>"
            ]
          },
          "metadata": {},
          "execution_count": 5
        }
      ]
    },
    {
      "cell_type": "markdown",
      "source": [
        "##### Creating a Series from a Dictionary"
      ],
      "metadata": {
        "id": "KvHfXb0MYjLi"
      }
    },
    {
      "cell_type": "code",
      "source": [
        "data = {\n",
        "    'apple': 3,\n",
        "    'banana': 2,\n",
        "    'cherry': 5\n",
        "}\n",
        "\n",
        "series = pd.Series(data)"
      ],
      "metadata": {
        "id": "2saar_OQYcw9"
      },
      "execution_count": null,
      "outputs": []
    },
    {
      "cell_type": "code",
      "source": [
        "series"
      ],
      "metadata": {
        "colab": {
          "base_uri": "https://localhost:8080/",
          "height": 178
        },
        "id": "ky3LtoCNYhfJ",
        "outputId": "5fdf5965-60bb-4229-b1a8-aa1dcfbdb0e3"
      },
      "execution_count": null,
      "outputs": [
        {
          "output_type": "execute_result",
          "data": {
            "text/plain": [
              "apple     3\n",
              "banana    2\n",
              "cherry    5\n",
              "dtype: int64"
            ],
            "text/html": [
              "<div>\n",
              "<style scoped>\n",
              "    .dataframe tbody tr th:only-of-type {\n",
              "        vertical-align: middle;\n",
              "    }\n",
              "\n",
              "    .dataframe tbody tr th {\n",
              "        vertical-align: top;\n",
              "    }\n",
              "\n",
              "    .dataframe thead th {\n",
              "        text-align: right;\n",
              "    }\n",
              "</style>\n",
              "<table border=\"1\" class=\"dataframe\">\n",
              "  <thead>\n",
              "    <tr style=\"text-align: right;\">\n",
              "      <th></th>\n",
              "      <th>0</th>\n",
              "    </tr>\n",
              "  </thead>\n",
              "  <tbody>\n",
              "    <tr>\n",
              "      <th>apple</th>\n",
              "      <td>3</td>\n",
              "    </tr>\n",
              "    <tr>\n",
              "      <th>banana</th>\n",
              "      <td>2</td>\n",
              "    </tr>\n",
              "    <tr>\n",
              "      <th>cherry</th>\n",
              "      <td>5</td>\n",
              "    </tr>\n",
              "  </tbody>\n",
              "</table>\n",
              "</div><br><label><b>dtype:</b> int64</label>"
            ]
          },
          "metadata": {},
          "execution_count": 7
        }
      ]
    },
    {
      "cell_type": "markdown",
      "source": [
        "###### Creating a Series with Scalar Value"
      ],
      "metadata": {
        "id": "7G_KrUyOY1h_"
      }
    },
    {
      "cell_type": "code",
      "source": [
        "label = ['apple', 'banana', 'orange', 'fig']\n",
        "series = pd.Series(5, index=label)"
      ],
      "metadata": {
        "id": "PwcYVvmUZLMC"
      },
      "execution_count": null,
      "outputs": []
    },
    {
      "cell_type": "code",
      "source": [
        "print(series)"
      ],
      "metadata": {
        "colab": {
          "base_uri": "https://localhost:8080/"
        },
        "id": "ADIGQolfZMnD",
        "outputId": "2ca58c68-7071-4d39-d503-ded71954b485"
      },
      "execution_count": null,
      "outputs": [
        {
          "output_type": "stream",
          "name": "stdout",
          "text": [
            "apple     5\n",
            "banana    5\n",
            "orange    5\n",
            "fig       5\n",
            "dtype: int64\n"
          ]
        }
      ]
    },
    {
      "cell_type": "code",
      "source": [
        "# Empty series\n",
        "series = pd.Series()\n",
        "print(series)"
      ],
      "metadata": {
        "colab": {
          "base_uri": "https://localhost:8080/"
        },
        "id": "3hJDWQI3ZRk-",
        "outputId": "5be928c9-c61f-4569-d5ad-14505b846e51"
      },
      "execution_count": null,
      "outputs": [
        {
          "output_type": "stream",
          "name": "stdout",
          "text": [
            "Series([], dtype: object)\n"
          ]
        }
      ]
    },
    {
      "cell_type": "code",
      "source": [
        "# Creating series from numpy array\n",
        "np_array = np.array([1,2,3,4,5])\n",
        "series = pd.Series(np_array, index=['first', 'second', 'third', 'forth', 'fifth'])\n",
        "print(series)"
      ],
      "metadata": {
        "colab": {
          "base_uri": "https://localhost:8080/"
        },
        "id": "M8DOUbXbZztm",
        "outputId": "eb02614f-4e86-45a4-c441-3abc7ecd43f0"
      },
      "execution_count": null,
      "outputs": [
        {
          "output_type": "stream",
          "name": "stdout",
          "text": [
            "first     1\n",
            "second    2\n",
            "third     3\n",
            "forth     4\n",
            "fifth     5\n",
            "dtype: int64\n"
          ]
        }
      ]
    }
  ]
}